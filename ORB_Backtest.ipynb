{
  "nbformat": 4,
  "nbformat_minor": 0,
  "metadata": {
    "colab": {
      "provenance": [],
      "authorship_tag": "ABX9TyPYyc1grzqiPelhuuI6U1b5",
      "include_colab_link": true
    },
    "kernelspec": {
      "name": "python3",
      "display_name": "Python 3"
    },
    "language_info": {
      "name": "python"
    }
  },
  "cells": [
    {
      "cell_type": "markdown",
      "metadata": {
        "id": "view-in-github",
        "colab_type": "text"
      },
      "source": [
        "<a href=\"https://colab.research.google.com/github/dolu143/Radha/blob/main/ORB_Backtest.ipynb\" target=\"_parent\"><img src=\"https://colab.research.google.com/assets/colab-badge.svg\" alt=\"Open In Colab\"/></a>"
      ]
    },
    {
      "cell_type": "code",
      "execution_count": null,
      "metadata": {
        "id": "wVwopSOqbnWP"
      },
      "outputs": [],
      "source": [
        "from smartapi import SmartConnect\n",
        "import credentials\n",
        "import functions\n",
        "import time\n",
        "import datetime\n",
        "import talib as ta\n",
        "import pandas as pd\n",
        "import numpy as np\n",
        "import json"
      ]
    },
    {
      "cell_type": "code",
      "source": [
        "exch_seg = 'NFO'\n",
        "timeframe = 'FIFTEEN_MINUTE'\n",
        "fromdate = '2023-06-01 09:15'\n",
        "todate = '2023-06-28 15:30'\n",
        "script_profit = {}\n",
        "quantity = 100\n",
        "initial_value = 20000\n",
        "\n",
        "obj= functions.login()\n",
        "functions.intializeSymbolTokenMap()\n",
        "tokenInfo = functions.getTokenInfo('NFO','OPTIDX','NIFTY',18700,'CE').iloc[0]\n",
        "print(tokenInfo)\n",
        "#symbol  = tokenInfo['symbol']\n",
        "script  = tokenInfo['symbol']\n",
        "token = tokenInfo['token']\n",
        "lot = int(tokenInfo['lotsize'])\n",
        "print(script, token, lot)"
      ],
      "metadata": {
        "id": "LDMIJ4CLby21"
      },
      "execution_count": null,
      "outputs": []
    },
    {
      "cell_type": "code",
      "source": [
        "try:\n",
        "  hist_data = functions.histcandle(exch_seg,token,timeframe,fromdate,todate)\n",
        "  if hist_data != None:\n",
        "    columns = [\"date\", \"open\", \"high\", \"low\", \"close\", \"volume\"]\n",
        "    df = pd.DataFrame(hist_data[\"data\"], columns = columns)\n",
        "    print (df)\n",
        "    if not df.empty:\n",
        "      order = \"\"\n",
        "      totalPnl = 0\n",
        "      pnl = 0\n",
        "      exit = 0\n",
        "      params={}\n",
        "      result=''\n",
        "      outtime = ''\n",
        "      intime = ''\n",
        "      df1 = pd.DataFrame(columns = ['date', 'intime', 'entry', 'result','outtime','exit', 'PnL', 'total PnL' ])\n",
        "\n",
        "      for i in df.index:\n",
        "        ltp=df['close'][i]\n",
        "        time= df[\"date\"][i][11:16]\n",
        "        date = df['date'][i][0:10]\n",
        "        if (time == \"09:30\") and (order == \"buy\" or order == \"\"):\n",
        "          order = \"sell\"\n",
        "          intime = time\n",
        "          entry = max(df[\"high\"].loc[i-15:i])\n",
        "          target = round(entry*0.7, 1)\n",
        "          stoploss = round(entry*1.1, 1)\n",
        "          params[script] = {'date':date,'intime':intime,\"entry\":entry,\"result\":result,'outtime':outtime,'exit':exit,'PnL':pnl,'total PnL':totalPnl}\n",
        "          #print(f\"\\n{script} Sold at Rs. {entry} time: {df['date'][i]} \")\n",
        "          #print (params[script])\n",
        "\n",
        "\n",
        "        if (time > \"09:30\") and (order == \"sell\"):\n",
        "          #print(df[\"low\"][i])\n",
        "          if len(params) != 0:\n",
        "\n",
        "            if (target > int(df[\"low\"][i])) and (time < \"13:30\"):\n",
        "              order = \"buy\"\n",
        "              outtime = time\n",
        "              exit = df[\"low\"][i]\n",
        "              pnl = ((entry - exit)* quantity)\n",
        "              totalPnl = int(totalPnl + pnl)\n",
        "              params[script] = {'date':date,'intime':intime,\"entry\":entry,\"result\":result,'outtime':outtime,'exit':exit,'PnL':pnl,'total PnL':totalPnl}\n",
        "              params[script][\"result\"] = 'Target'\n",
        "              df1 = df1.append(params[script], ignore_index = True)\n",
        "              #print(df1)\n",
        "              #print(f'Target on {df[\"date\"][i][11:-9]} for {script} at Rs.{df[\"low\"][i]}, Profit: {round(pnl,2)}')\n",
        "\n",
        "            if (stoploss < int(df[\"high\"][i])) and (time < \"13:30\"):\n",
        "              order = \"buy\"\n",
        "              outtime = time\n",
        "              exit = df[\"high\"][i]\n",
        "              pnl = ((entry - exit)* quantity)\n",
        "              totalPnl = int(totalPnl + pnl)\n",
        "              params[script] = {'date':date,'intime':intime,\"entry\":entry,\"result\":result,'outtime':outtime,'exit':exit,'PnL':pnl,'total PnL':totalPnl}\n",
        "              params[script][\"result\"] = 'SL'\n",
        "              df1 = df1.append(params[script], ignore_index = True)\n",
        "              #print(df1)\n",
        "              #print(f'Stoploss on {df[\"date\"][i][11:-9]} for {script} at {df[\"high\"][i]}, Loss: {round(pnl,2)}')\n",
        "\n",
        "            if (df[\"date\"][i][11:-9] == \"13:30\"):\n",
        "              order = \"buy\"\n",
        "              outtime = time\n",
        "              exit = df[\"low\"][i]\n",
        "              pnl = ((entry - exit)* quantity)\n",
        "              totalPnl = int(totalPnl + pnl)\n",
        "              params[script] = {'date':date,'intime':intime,\"entry\":entry,\"result\":result,'outtime':outtime,'exit':exit,'PnL':pnl,'total PnL':totalPnl}\n",
        "              params[script][\"result\"] = 'Time'\n",
        "              df1 = df1.append(params[script], ignore_index = True)\n",
        "              #print(df1)\n",
        "              #print(f'Exit on {df[\"date\"][i][11:-9]} for {script} at Rs.{df[\"low\"][i]}, PnL: {round(pnl,2)}')\n",
        "\n",
        "        if len(df) == i+1:\n",
        "          initial_value = initial_value + totalPnl\n",
        "          script_profit[script] = totalPnl\n",
        "          #print(f\"\\n {script_profit}\")\n",
        "  else:\n",
        "    print(\"No Historic Data\")\n",
        "\n",
        "  print(f\"\\n{script_profit}, Final Value : {initial_value}\")\n",
        "  print(df1)\n",
        "\n",
        "except Exception as e:\n",
        "  print(\"Historic Api failed: {}\".format(e.message))\n"
      ],
      "metadata": {
        "id": "HlQTNMrjb7-N"
      },
      "execution_count": null,
      "outputs": []
    },
    {
      "cell_type": "code",
      "source": [
        "functions.logout()"
      ],
      "metadata": {
        "id": "EHxuWRGWcBMM"
      },
      "execution_count": null,
      "outputs": []
    }
  ]
}